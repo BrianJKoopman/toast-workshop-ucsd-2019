{
 "cells": [
  {
   "cell_type": "markdown",
   "metadata": {},
   "source": [
    "# Simulated Sky Signal\n",
    "\n",
    "This lesson is about simulating the input sky signal using PySM 3.\n",
    "\n",
    "## PySM 3\n",
    "\n",
    "If you used `PySM` in the past, you most probably used `PySM 2` from https://github.com/bthorne93/PySM_public.\n",
    "\n",
    "`PySM 3` is a rewrite of `PySM` which offers all the same functionality and the same models of `PySM 2` but is focused on:\n",
    "\n",
    "* improving performance using just-in-time compilation and multi-threading with `numba`\n",
    "* lowering memory requirements by reworking the underlying algorithms\n",
    "* improved capability of running in parallel with MPI\n",
    "\n",
    "It is available from https://github.com/healpy/pysm, it is still missing a few models and the documentation but is already integrated into TOAST to overcame the strong performance limits of `PySM 2`."
   ]
  },
  {
   "cell_type": "markdown",
   "metadata": {},
   "source": [
    "## OpSimSky\n",
    "\n",
    "The lower level TOAST operators is `OpSimSky`, it performs the following operations:\n",
    "* initialize `PySM` with the input sky configuration\n",
    "* loop through all channels and for each call `PySM` to perform:\n",
    "    * generate the sky emission at all frequencies in the bandpass and integrate\n",
    "    * smooth the bandpass-integrated map with a gaussian beam"
   ]
  },
  {
   "cell_type": "code",
   "execution_count": null,
   "metadata": {},
   "outputs": [],
   "source": [
    "# Load common tools for all lessons\n",
    "import sys\n",
    "sys.path.insert(0, \"..\")\n",
    "from lesson_tools import (\n",
    "    check_nersc,\n",
    "    fake_focalplane\n",
    ")"
   ]
  },
  {
   "cell_type": "code",
   "execution_count": null,
   "metadata": {},
   "outputs": [],
   "source": [
    "focal_plane = fake_focalplane()"
   ]
  },
  {
   "cell_type": "code",
   "execution_count": null,
   "metadata": {},
   "outputs": [],
   "source": [
    "focal_plane.keys()"
   ]
  },
  {
   "cell_type": "code",
   "execution_count": null,
   "metadata": {},
   "outputs": [],
   "source": [
    "focal_plane[\"0A\"][\"fwhm_arcmin\"]"
   ]
  },
  {
   "cell_type": "code",
   "execution_count": null,
   "metadata": {},
   "outputs": [],
   "source": []
  }
 ],
 "metadata": {
  "kernelspec": {
   "display_name": "CMB 20191008",
   "language": "python",
   "name": "cmbenv-20191008"
  },
  "language_info": {
   "codemirror_mode": {
    "name": "ipython",
    "version": 3
   },
   "file_extension": ".py",
   "mimetype": "text/x-python",
   "name": "python",
   "nbconvert_exporter": "python",
   "pygments_lexer": "ipython3",
   "version": "3.6.9"
  }
 },
 "nbformat": 4,
 "nbformat_minor": 4
}
