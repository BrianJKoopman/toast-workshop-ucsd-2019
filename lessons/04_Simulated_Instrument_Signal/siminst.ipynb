{
 "cells": [
  {
   "cell_type": "markdown",
   "metadata": {},
   "source": [
    "# Simulated Instrument Signal\n",
    "\n",
    "In this lesson we cover three TOAST operators for simulating noise and systematics:\n",
    "* `OpSimNoise` for simulating instrumental noise\n",
    "* `OpSimAtmosphere` for simulating atmospheric noise\n",
    "* `OpSimSSS` for simulating scan-synchronous signal (typically ground pick-up)"
   ]
  },
  {
   "cell_type": "code",
   "execution_count": null,
   "metadata": {},
   "outputs": [],
   "source": [
    "# Are you using a special reservation for a workshop?\n",
    "# If so, set it here:\n",
    "nersc_reservation = None\n",
    "\n",
    "# Load common tools for all lessons\n",
    "import sys\n",
    "sys.path.insert(0, \"..\")\n",
    "from lesson_tools import (\n",
    "    check_nersc,\n",
    "    fake_focalplane\n",
    ")\n",
    "nersc_host, nersc_repo = check_nersc(reservation=nersc_reservation)\n",
    "if nersc_host is not None:\n",
    "    %reload_ext slurm_magic"
   ]
  },
  {
   "cell_type": "markdown",
   "metadata": {},
   "source": [
    "We begin by generating an observing schedule containing a single observation"
   ]
  },
  {
   "cell_type": "code",
   "execution_count": null,
   "metadata": {},
   "outputs": [],
   "source": [
    "! toast_ground_schedule.py \\\n",
    "    --site-lat \"-22.958064\" \\\n",
    "    --site-lon \"-67.786222\" \\\n",
    "    --site-alt 5200 \\\n",
    "    --site-name Atacama \\\n",
    "    --telescope LAT \\\n",
    "    --start \"2020-01-01 00:00:00\" \\\n",
    "    --stop \"2020-01-01 02:00:00\" \\\n",
    "    --patch-coord C \\\n",
    "    --patch small_patch,1,40,-40,44,-44 \\\n",
    "    --ces-max-time 86400 \\\n",
    "    --out schedule.txt\n",
    "\n",
    "! cat schedule.txt"
   ]
  },
  {
   "cell_type": "raw",
   "metadata": {},
   "source": [
    "For simulating atmospheric noise, we'll also need a TOAST weather file, which contains the historic distributions of temperature, wind, pressure and water vapor at a fixed site. The file is arranged by month and hour of the day to capture seasonal and diurnal variation in these parameters.  Here we fetch the weather file for Atacama. There is a another file for Pole."
   ]
  },
  {
   "cell_type": "code",
   "execution_count": null,
   "metadata": {},
   "outputs": [],
   "source": [
    "! [[ ! -e weather_Atacama.fits ]] && wget http://portal.nersc.gov/project/cmb/toast_data/example_data/weather_Atacama.fits"
   ]
  },
  {
   "cell_type": "markdown",
   "metadata": {},
   "source": [
    "Typical TOAST pipelines like `toast_ground_sim.py` create synthetic observations by loading the schedule from file and then creating instances of `TODGround` according to the observing schedule. This is most easily accomplished with `toast.pipeline_tools`."
   ]
  },
  {
   "cell_type": "code",
   "execution_count": null,
   "metadata": {},
   "outputs": [],
   "source": [
    "import toast\n",
    "from toast.mpi import MPI\n",
    "\n",
    "import numpy as np\n",
    "import matplotlib.pyplot as plt\n",
    "\n",
    "from toast import pipeline_tools \n",
    "\n",
    "mpiworld, procs, rank = toast.mpi.get_world()\n",
    "comm = toast.mpi.Comm(mpiworld)\n",
    "\n",
    "# Create a fake focalplane, we could also load one from file\n",
    "\n",
    "focalplane = toast.pipeline_tools.Focalplane(fake_focalplane())\n",
    "\n",
    "# A pipeline would create the args object with argparse\n",
    "\n",
    "class args:\n",
    "    split_schedule = None\n",
    "    schedule = \"schedule.txt\"\n",
    "    sort_schedule = False  # Matters for parallelization\n",
    "    weather = \"weather_Atacama.fits\"\n",
    "    sample_rate = 10  # Hz\n",
    "    scan_rate = 1.0  # deg / s\n",
    "    scan_accell = 10.0  # deg / s^2\n",
    "    hwp_rpm = None\n",
    "    hwp_step_deg = None\n",
    "    hwp_step_time_s = None\n",
    "    \n",
    "# Load the observing schedule, append weather and focalplane to it\n",
    "    \n",
    "schedules = toast.pipeline_tools.load_schedule(args, comm)\n",
    "toast.pipeline_tools.load_weather(args, comm, schedules)\n",
    "# There could be more than one observing schedule, but not this time\n",
    "schedule = schedules[0]\n",
    "schedule.telescope.focalplane = focalplane\n",
    "\n",
    "# Create a TODGround object and embed it in an observation\n",
    "\n",
    "ces = schedule.ceslist[0]  # We know there is only one CES\n",
    "totsamples = int((ces.stop_time - ces.start_time) * args.sample_rate)\n",
    "\n",
    "# create the TOD for this observation\n",
    "\n",
    "if comm.comm_group is not None:\n",
    "    # Available detectors should be split between processes in the group\n",
    "    ndetrank = comm.comm_group.size\n",
    "else:\n",
    "    ndetrank = 1\n",
    "\n",
    "tod = toast.todmap.TODGround(\n",
    "    comm.comm_group,\n",
    "    telescope.focalplane.detquats,\n",
    "    totsamples,\n",
    "    detranks=ndetrank,\n",
    "    firsttime=ces.start_time,\n",
    "    rate=args.sample_rate,\n",
    "    site_lon=telescope.site.lon,\n",
    "    site_lat=telescope.site.lat,\n",
    "    site_alt=telescope.site.alt,\n",
    "    azmin=ces.azmin,\n",
    "    azmax=ces.azmax,\n",
    "    el=ces.el,\n",
    "    scanrate=args.scan_rate,\n",
    "    scan_accel=args.scan_accel,\n",
    "    #CES_start=None,\n",
    "    #CES_stop=None,\n",
    "    #sun_angle_min=args.sun_angle_min,\n",
    "    #coord=args.coord,\n",
    "    #sampsizes=None,\n",
    "    #report_timing=args.debug,\n",
    "    hwprpm=args.hwp_rpm,\n",
    "    hwpstep=args.hwp_step_deg,\n",
    "    hwpsteptime=args.hwp_step_time_s,\n",
    ")\n",
    "    "
   ]
  },
  {
   "cell_type": "markdown",
   "metadata": {},
   "source": [
    "## Running in Parallel\n",
    "\n",
    "The NERSC login nodes do not support MPI, so all of the previous examples are running serially.  To run in parallel, we can submit a batch job version of the above examples:"
   ]
  },
  {
   "cell_type": "code",
   "execution_count": null,
   "metadata": {},
   "outputs": [],
   "source": [
    "%%writefile siminst.py\n",
    "\n",
    "import toast\n",
    "from toast.mpi import MPI\n"
   ]
  },
  {
   "cell_type": "code",
   "execution_count": null,
   "metadata": {},
   "outputs": [],
   "source": [
    "if nersc_host is not None:\n",
    "    %srun -N 1 -C knl -n 32 -c 2 --cpu_bind=cores -t 00:03:00 python siminst.py"
   ]
  }
 ],
 "metadata": {
  "kernelspec": {
   "display_name": "CMB 20191008",
   "language": "python",
   "name": "cmbenv-20191008"
  },
  "language_info": {
   "codemirror_mode": {
    "name": "ipython",
    "version": 3
   },
   "file_extension": ".py",
   "mimetype": "text/x-python",
   "name": "python",
   "nbconvert_exporter": "python",
   "pygments_lexer": "ipython3",
   "version": "3.6.9"
  }
 },
 "nbformat": 4,
 "nbformat_minor": 4
}
