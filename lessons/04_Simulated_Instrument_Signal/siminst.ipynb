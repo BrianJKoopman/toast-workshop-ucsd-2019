{
 "cells": [
  {
   "cell_type": "markdown",
   "metadata": {},
   "source": [
    "# Simulated Instrument Signal\n",
    "\n",
    "In this lesson we cover three TOAST operators for simulating noise and systematics:\n",
    "* `OpSimNoise` for simulating instrumental noise\n",
    "* `OpSimAtmosphere` for simulating atmospheric noise\n",
    "* `OpSimSSS` for simulating scan-synchronous signal (typically ground pick-up)\n",
    "We also introduce `TODGround`, a synthetic `TOD` class that simulates constant elevation scanning."
   ]
  },
  {
   "cell_type": "code",
   "execution_count": null,
   "metadata": {},
   "outputs": [],
   "source": [
    "# Are you using a special reservation for a workshop?\n",
    "# If so, set it here:\n",
    "nersc_reservation = None\n",
    "\n",
    "# Load common tools for all lessons\n",
    "import sys\n",
    "sys.path.insert(0, \"..\")\n",
    "from lesson_tools import (\n",
    "    check_nersc,\n",
    "    fake_focalplane\n",
    ")\n",
    "nersc_host, nersc_repo = check_nersc(reservation=nersc_reservation)\n",
    "if nersc_host is not None:\n",
    "    %reload_ext slurm_magic"
   ]
  },
  {
   "cell_type": "markdown",
   "metadata": {},
   "source": [
    "## Generating a TOAST data object with one constant elevation scan\n",
    "\n",
    "We begin by generating an observing schedule containing a single observation"
   ]
  },
  {
   "cell_type": "code",
   "execution_count": null,
   "metadata": {},
   "outputs": [],
   "source": [
    "! toast_ground_schedule.py \\\n",
    "    --site-lat \"-22.958064\" \\\n",
    "    --site-lon \"-67.786222\" \\\n",
    "    --site-alt 5200 \\\n",
    "    --site-name Atacama \\\n",
    "    --telescope LAT \\\n",
    "    --start \"2020-01-01 04:00:00\" \\\n",
    "    --stop \"2020-01-01 04:30:00\" \\\n",
    "    --patch-coord C \\\n",
    "    --patch small_patch,1,40,-40,44,-44 \\\n",
    "    --ces-max-time 86400 \\\n",
    "    --out schedule.txt\n",
    "\n",
    "! cat schedule.txt"
   ]
  },
  {
   "cell_type": "raw",
   "metadata": {},
   "source": [
    "For simulating atmospheric noise, we'll also need a TOAST weather file, which contains the historic distributions of temperature, wind, pressure and water vapor at a fixed site. The file is arranged by month and hour of the day to capture seasonal and diurnal variation in these parameters.  Here we fetch the weather file for Atacama. There is a another file for Pole."
   ]
  },
  {
   "cell_type": "code",
   "execution_count": null,
   "metadata": {},
   "outputs": [],
   "source": [
    "! [[ ! -e weather_Atacama.fits ]] && wget http://portal.nersc.gov/project/cmb/toast_data/example_data/weather_Atacama.fits"
   ]
  },
  {
   "cell_type": "markdown",
   "metadata": {},
   "source": [
    "### TODGround object\n",
    "\n",
    "Typical TOAST pipelines like [toast_ground_sim.py](https://github.com/hpc4cmb/toast/blob/master/pipelines/toast_ground_sim.py#L423) create synthetic observations by loading the schedule from file and then creating instances of [TODGround](https://github.com/hpc4cmb/toast/blob/master/src/toast/todmap/sim_tod.py#L707) according to the observing schedule. This is most easily accomplished with [toast.pipeline_tools](https://github.com/hpc4cmb/toast/tree/master/src/toast/pipeline_tools)."
   ]
  },
  {
   "cell_type": "code",
   "execution_count": null,
   "metadata": {},
   "outputs": [],
   "source": [
    "import toast\n",
    "from toast.mpi import MPI\n",
    "\n",
    "import numpy as np\n",
    "import matplotlib.pyplot as plt\n",
    "\n",
    "from toast import pipeline_tools \n",
    "\n",
    "mpiworld, procs, rank = toast.mpi.get_world()\n",
    "comm = toast.mpi.Comm(mpiworld)\n",
    "\n",
    "# A pipeline would create the args object with argparse\n",
    "\n",
    "class args:\n",
    "    split_schedule = None\n",
    "    schedule = \"schedule.txt\"\n",
    "    sort_schedule = False  # Matters for parallelization\n",
    "    weather = \"weather_Atacama.fits\"\n",
    "    sample_rate = 10  # Hz\n",
    "    scan_rate = 1.0  # deg / s\n",
    "    # Use an artifially low acceleration to show the turn-arounds better\n",
    "    scan_accel = 0.1  # deg / s^2\n",
    "    hwp_rpm = None\n",
    "    hwp_step_deg = None\n",
    "    hwp_step_time_s = None\n",
    "\n",
    "# Create a fake focalplane, we could also load one from file.\n",
    "# The Focalplane class interprets the focalplane dictionary\n",
    "# created by fake_focalplane() but it can also load the information\n",
    "# from file.\n",
    "\n",
    "focalplane = toast.pipeline_tools.Focalplane(\n",
    "    fake_focalplane(), sample_rate=args.sample_rate\n",
    ")\n",
    "\n",
    "# Load the observing schedule, append weather and focalplane to it\n",
    "    \n",
    "schedules = toast.pipeline_tools.load_schedule(args, comm)\n",
    "toast.pipeline_tools.load_weather(args, comm, schedules)\n",
    "# There could be more than one observing schedule, but not this time\n",
    "schedule = schedules[0]\n",
    "schedule.telescope.focalplane = focalplane\n",
    "\n",
    "# Create a TODGround object based on the only entry in the schedule\n",
    "\n",
    "ces = schedule.ceslist[0]  # normally we would loop over entries\n",
    "totsamples = int((ces.stop_time - ces.start_time) * args.sample_rate)\n",
    "\n",
    "if comm.comm_group is not None:\n",
    "    # Available detectors should be split between processes in the group\n",
    "    ndetrank = comm.comm_group.size\n",
    "else:\n",
    "    ndetrank = 1\n",
    "    \n",
    "telescope = schedule.telescope  # shorthand\n",
    "        \n",
    "tod = toast.todmap.TODGround(\n",
    "    comm.comm_group,\n",
    "    telescope.focalplane.detquats,\n",
    "    totsamples,\n",
    "    detranks=ndetrank,\n",
    "    firsttime=ces.start_time,\n",
    "    rate=args.sample_rate,\n",
    "    site_lon=telescope.site.lon,\n",
    "    site_lat=telescope.site.lat,\n",
    "    site_alt=telescope.site.alt,\n",
    "    azmin=ces.azmin,\n",
    "    azmax=ces.azmax,\n",
    "    el=ces.el,\n",
    "    scanrate=args.scan_rate,\n",
    "    scan_accel=args.scan_accel,\n",
    "    #CES_start=None,\n",
    "    #CES_stop=None,\n",
    "    #sun_angle_min=args.sun_angle_min,\n",
    "    #coord=args.coord,\n",
    "    #sampsizes=None,\n",
    "    #report_timing=args.debug,\n",
    "    hwprpm=args.hwp_rpm,\n",
    "    hwpstep=args.hwp_step_deg,\n",
    "    hwpsteptime=args.hwp_step_time_s,\n",
    ")"
   ]
  },
  {
   "cell_type": "markdown",
   "metadata": {},
   "source": [
    "The `TODGround` objects have capabilities that regular TOD objects do not.  Specifically, they can produce detector and boresight pointing in both celestial and horizontal coordinate systems.  Here we plot the boresight azimuth and identify the stable science scans."
   ]
  },
  {
   "cell_type": "code",
   "execution_count": null,
   "metadata": {},
   "outputs": [],
   "source": [
    "import matplotlib.pyplot as plt\n",
    "%matplotlib inline\n",
    "\n",
    "ind = slice(0, 1000)\n",
    "times = tod.local_times()[ind]\n",
    "cflags = tod.local_common_flags()[ind]\n",
    "az = tod.read_boresight_az()[ind]\n",
    "\n",
    "turnaround = cflags & tod.TURNAROUND != 0\n",
    "stable = np.logical_not(turnaround)\n",
    "\n",
    "plt.plot(times[stable], np.degrees(az[stable]), '.', label=\"stable\")\n",
    "plt.plot(times[turnaround], np.degrees(az[turnaround]), '.', label=\"turnaround\")\n",
    "ax = plt.gca()\n",
    "ax.set_xlabel(\"UNIX time [s]\")\n",
    "ax.set_ylabel(\"Azimuth [deg]\")\n",
    "ax.set_title(\"Boresight azimuth, el = {} deg\".format(np.degrees(tod._el)))\n",
    "plt.legend()"
   ]
  },
  {
   "cell_type": "markdown",
   "metadata": {},
   "source": [
    "Here we get the horizontal and celestial pointing for just one of the detectors"
   ]
  },
  {
   "cell_type": "code",
   "execution_count": null,
   "metadata": {},
   "outputs": [],
   "source": [
    "import healpy\n",
    "\n",
    "det = tod.local_dets[0]\n",
    "quat_radec = tod.read_pntg(det)\n",
    "quat_azel = tod.read_pntg(det, azel=True)\n",
    "ra, dec = toast.qarray.to_position(quat_radec)\n",
    "az, el = toast.qarray.to_position(quat_azel)\n",
    "\n",
    "healpy.mollview(np.zeros(12), title=\"Horizontal pointing\")\n",
    "healpy.projplot(az, el, 'r.')\n",
    "healpy.graticule(45, verbose=False)\n",
    "healpy.mollview(np.zeros(12), title=\"Celestial pointing\")\n",
    "healpy.projplot(ra, dec, 'r.')\n",
    "healpy.graticule(45, verbose=False)"
   ]
  },
  {
   "cell_type": "markdown",
   "metadata": {},
   "source": [
    "### TOAST data"
   ]
  },
  {
   "cell_type": "code",
   "execution_count": null,
   "metadata": {},
   "outputs": [],
   "source": [
    "# Now embed the TOD in an observation dictionary and add other necessary metadata\n",
    "\n",
    "obs = {}\n",
    "obs[\"name\"] = \"CES-{}-{}-{}-{}-{}\".format(\n",
    "    telescope.site.name, telescope.name, ces.name, ces.scan, ces.subscan\n",
    ")\n",
    "obs[\"tod\"] = tod\n",
    "obs[\"baselines\"] = None\n",
    "obs[\"noise\"] = telescope.focalplane.noise\n",
    "obs[\"id\"] = int(ces.mjdstart * 10000)\n",
    "obs[\"intervals\"] = tod.subscans\n",
    "obs[\"site\"] = telescope.site\n",
    "obs[\"site_name\"] = telescope.site.name\n",
    "obs[\"site_id\"] = telescope.site.id\n",
    "obs[\"altitude\"] = telescope.site.alt\n",
    "obs[\"weather\"] = telescope.site.weather\n",
    "obs[\"telescope\"] = telescope\n",
    "obs[\"telescope_name\"] = telescope.name\n",
    "obs[\"telescope_id\"] = telescope.id\n",
    "obs[\"focalplane\"] = telescope.focalplane.detector_data\n",
    "obs[\"fpradius\"] = telescope.focalplane.radius\n",
    "obs[\"start_time\"] = ces.start_time\n",
    "obs[\"season\"] = ces.season\n",
    "obs[\"date\"] = ces.start_date\n",
    "obs[\"MJD\"] = ces.mjdstart\n",
    "obs[\"rising\"] = ces.rising\n",
    "obs[\"mindist_sun\"] = ces.mindist_sun\n",
    "obs[\"mindist_moon\"] = ces.mindist_moon\n",
    "obs[\"el_sun\"] = ces.el_sun\n",
    "    "
   ]
  },
  {
   "cell_type": "code",
   "execution_count": null,
   "metadata": {},
   "outputs": [],
   "source": [
    "for key, value in obs.items():\n",
    "    if key == \"intervals\":\n",
    "        print(\"intervals = [{} ... {}] ({} in total)\".format(value[0], value[-1], len(value)))\n",
    "    else:\n",
    "        print(\"{} = {}\".format(key, value))"
   ]
  },
  {
   "cell_type": "code",
   "execution_count": null,
   "metadata": {},
   "outputs": [],
   "source": [
    "data = toast.Data(comm)\n",
    "data.obs.append(obs)"
   ]
  },
  {
   "cell_type": "markdown",
   "metadata": {},
   "source": [
    "## Simulating instrument noise\n",
    "\n",
    "Instrumental noise simulation is based on the TOAST [Noise](https://github.com/hpc4cmb/toast/blob/master/src/toast/tod/noise.py#L8) object appended to each observation.\n",
    "\n",
    "[src/toast/tod/sim_det_noise.py](https://github.com/hpc4cmb/toast/blob/master/src/toast/tod/sim_det_noise.py#L16)"
   ]
  },
  {
   "cell_type": "code",
   "execution_count": null,
   "metadata": {},
   "outputs": [],
   "source": [
    "obs = data.obs[0]\n",
    "noise = obs[\"noise\"]\n",
    "print(\"detectors:\", noise.detectors)\n",
    "\n",
    "# Get and plot noise PSD for det1\n",
    "det1 = noise.detectors[0]\n",
    "freq1 = noise.freq(det1)\n",
    "psd1 = noise.psd(det1)\n",
    "plt.loglog(freq1, psd1, label=det1)\n",
    "\n",
    "# get and plot det2 but manipulate the noise PSD to suppress high frequency noise\n",
    "det2 = noise.detectors[1]\n",
    "freq2 = noise.freq(det2)\n",
    "psd2 = noise.psd(det2)\n",
    "psd2 *= 1e-2 / (freq2 + 1e-2)\n",
    "plt.loglog(freq2, psd2, label=det2)\n",
    "\n",
    "ax = plt.gca()\n",
    "ax.set_xlabel(\"Frequency [Hz]\")\n",
    "ax.set_ylabel(\"PSD [K$^2$/Hz]\")\n",
    "ax.set_title(\"Noise PSD\")\n",
    "plt.legend(loc=\"best\")"
   ]
  },
  {
   "cell_type": "code",
   "execution_count": null,
   "metadata": {},
   "outputs": [],
   "source": [
    "\n",
    "simnoise = toast.tod.OpSimNoise(out=\"noise\", realization=0)\n",
    "simnoise.exec(data)\n",
    "tod = obs[\"tod\"]\n",
    "times = tod.local_times()\n",
    "for det in [det1, det2]:\n",
    "    simulated = tod.local_signal(det, \"noise\")\n",
    "    plt.plot(times, simulated, \".\", label=det)\n",
    "ax.set_xlabel(\"Unix time [s]\")\n",
    "ax.set_ylabel(\"Noise [K]\")\n",
    "ax.set_title(\"Simulated noise\")\n",
    "plt.legend(loc=\"best\")"
   ]
  },
  {
   "cell_type": "markdown",
   "metadata": {},
   "source": [
    "By default the `Noise` object includes a diagonal mixing matrix and produces uncorrelated detector noise.  Let's add a strongly correlated low frequency component to the `Noise` object."
   ]
  },
  {
   "cell_type": "code",
   "execution_count": null,
   "metadata": {},
   "outputs": [],
   "source": [
    "def print_mixmatrix(noise):\n",
    "    print(\"{:10}key\".format(\"\"))\n",
    "    print(\"{:10}\".format(\"detector\"), end=\"\")\n",
    "    for key in noise.keys:\n",
    "        print(\"{:4}\".format(key), end=\"\")\n",
    "    print()\n",
    "    print(\"-\" * 80)\n",
    "    for det in noise.detectors:\n",
    "        print(\"{:8} :\".format(det), end=\"\")\n",
    "        for key in noise.keys:\n",
    "            print(\"{:4}\".format(noise.weight(det, key)), end=\"\")\n",
    "        print()\n",
    "\n",
    "print(\"Original mixing matrix\")\n",
    "print_mixmatrix(noise)"
   ]
  },
  {
   "cell_type": "markdown",
   "metadata": {},
   "source": [
    " We will instantiate a new Noise object with all the original inputs and an additional thermal mode.  We could also manipulate the existing noise object but this approach is more representative of how pipelines currently use `Noise`."
   ]
  },
  {
   "cell_type": "code",
   "execution_count": null,
   "metadata": {},
   "outputs": [],
   "source": [
    "detectors = []\n",
    "freqs = {}\n",
    "psds = {}\n",
    "mixmatrix = {}\n",
    "indices = {}\n",
    "for det in noise.detectors:\n",
    "    detectors.append(det)\n",
    "    freqs[det] = noise.freq(det).copy()\n",
    "    psds[det] = noise.psd(det).copy()\n",
    "    indices[det] = noise.index(det)\n",
    "    # We do not just copy the old mixing matrix because it is not stored for the trivial case\n",
    "    mixmatrix[det] = {}\n",
    "    for key in noise.keys:\n",
    "        weight = noise.weight(det, key)\n",
    "        if weight != 0:\n",
    "            mixmatrix[det][key] = weight\n",
    "\n",
    "# Create a new PSD and add it to the Noise object inputs\n",
    "correlated_name = \"thermal\"\n",
    "freq = np.logspace(-10, 2)\n",
    "freq[freq < args.sample_rate / 2]\n",
    "freq[-1] = args.sample_rate / 2\n",
    "psd = freq ** -2 * 1e-2\n",
    "freqs[correlated_name] = freq\n",
    "psds[correlated_name] = psd\n",
    "indices[correlated_name] = 999999\n",
    "for det in noise.detectors:\n",
    "    mixmatrix[det][correlated_name] = 1\n",
    "\n",
    "# Create a completely new Noise object\n",
    "new_noise = toast.tod.Noise(\n",
    "    detectors=detectors, freqs=freqs, psds=psds, mixmatrix=mixmatrix, indices=indices\n",
    ")\n",
    "\n",
    "plt.figure()\n",
    "for key in [det1, det2, correlated_name]:\n",
    "    freq = new_noise.freq(key)\n",
    "    psd = new_noise.psd(key)\n",
    "    plt.loglog(freq, psd, label=key)\n",
    "ax = plt.gca()\n",
    "ax.set_xlabel(\"Frequency [Hz]\")\n",
    "ax.set_ylabel(\"PSD [K$^2$/Hz]\")\n",
    "ax.set_title(\"New noise PSD\")\n",
    "plt.legend(loc=\"best\")\n",
    "\n",
    "print(\"\\nNew mixing matrix\")\n",
    "print_mixmatrix(new_noise)"
   ]
  },
  {
   "cell_type": "markdown",
   "metadata": {},
   "source": [
    "We will now replace the `Noise` in the observation with the one that includes the correlated mode and rerun the simulation"
   ]
  },
  {
   "cell_type": "code",
   "execution_count": null,
   "metadata": {},
   "outputs": [],
   "source": [
    "obs[\"noise\"] = new_noise\n",
    "simnoise = toast.tod.OpSimNoise(out=\"new_noise\", realization=0)\n",
    "simnoise.exec(data)\n",
    "\n",
    "plt.figure()\n",
    "tod = obs[\"tod\"]\n",
    "times = tod.local_times()\n",
    "for det in [det1, det2]:\n",
    "    simulated = tod.local_signal(det, \"new_noise\")\n",
    "    plt.plot(times, simulated, \".\", label=det)\n",
    "ax = plt.gca()\n",
    "ax.set_xlabel(\"Unix time [s]\")\n",
    "ax.set_ylabel(\"Noise [K]\")\n",
    "ax.set_title(\"Simulated noise with thermal mode\")\n",
    "plt.legend(loc=\"best\")"
   ]
  },
  {
   "cell_type": "markdown",
   "metadata": {},
   "source": [
    "## Atmospheric noise simulation\n",
    "\n",
    "The atmospheric noise module in TOAST\n",
    "1. defines a rectangular volume of atmosphere that contains all of the planned lines-of-sight factoring in the wind\n",
    "2. compresses the volume by determining which elements are actually needed\n",
    "3. builds the element-element covariance matrix matching the Errard. et al. model and instantiates it on the compressed volume\n",
    "4. optionally caches the volume elements for future use\n",
    "5. simulates the detector signal by performing line-of-sight integrals through the simulated volume while moving the volume with wind\n",
    "\n",
    "[src/toast/todmap/sim_det_atm.py](https://github.com/hpc4cmb/toast/blob/master/src/toast/todmap/sim_det_atm.py#L36)"
   ]
  },
  {
   "cell_type": "code",
   "execution_count": null,
   "metadata": {},
   "outputs": [],
   "source": [
    "# Make sure we do not have a stale atmospheric cache on disk.\n",
    "# Currently there is no guard against incompatibilities that arise\n",
    "# from changing, say, volume element size\n",
    "\n",
    "! rm -rf atm_cache\n",
    "\n",
    "atmsim = toast.todmap.OpSimAtmosphere(\n",
    "    out=\"atmosphere\",\n",
    "    realization=0,  # Each MC will have a different realization\n",
    "    zmax=1000,  # maximum altitude to integrate\n",
    "    xstep=10, # Volume element size\n",
    "    ystep=10,\n",
    "    zstep=10,\n",
    "    nelem_sim_max=10000,  # Target number of volume elements to consider at a time\n",
    "    gain=3e-5,  # This gain was calibrated against POLARBEAR data\n",
    "    # If the wind is strong or the observation is long, the volume becomes\n",
    "    # too large.  This parameter controls breaking the simulation into\n",
    "    # disjoint segments\n",
    "    wind_dist=10000,\n",
    "    cachedir=\"atm_cache\",\n",
    "    freq=100,\n",
    ")\n",
    "atmsim.exec(data)\n",
    "\n",
    "tod = obs[\"tod\"]\n",
    "times = tod.local_times()\n",
    "for det in tod.local_dets:\n",
    "    simulated = tod.local_signal(det, \"atmosphere\")\n",
    "    plt.plot(times, simulated, \".\", label=det)\n",
    "ax = plt.gca()\n",
    "ax.set_xlabel(\"Unix time [s]\")\n",
    "ax.set_ylabel(\"Atmosphere [K]\")\n",
    "ax.set_title(\"Simulated atmosphere\")\n",
    "plt.legend(loc=\"best\")"
   ]
  },
  {
   "cell_type": "markdown",
   "metadata": {},
   "source": [
    "## Ground (scan-synchronous) signal\n",
    "\n",
    "TOAST includes a new module for simulating scan-synchronous signals.  It works by sampling a provided or on-the-fly synthesized low resolution map using the horizontal detector pointing instead of sky pointing.\n",
    "\n",
    "[src/toast/todmap/sss.py](https://github.com/hpc4cmb/toast/blob/master/src/toast/todmap/sss.py#L23)"
   ]
  },
  {
   "cell_type": "code",
   "execution_count": null,
   "metadata": {},
   "outputs": [],
   "source": [
    "sim_sss = toast.todmap.OpSimScanSynchronousSignal(\n",
    "    out=\"sss\",\n",
    "    realization=0,\n",
    "    nside=256,  # internal resolution for the simulated ground map\n",
    "    fwhm=10,   # smoothing scale for the ground map\n",
    "    scale=1e-3,   # RMS for observations at el=45 deg\n",
    "    lmax=256,     # expansion lmax\n",
    "    power=-1,     # power law that suppresses ground signal at higher elevation\n",
    "    path=None,    # alternative ground map in Healpix format, will override nside, scale, lmax and power\n",
    ")\n",
    "\n",
    "sim_sss.exec(data)\n",
    "\n",
    "tod = obs[\"tod\"]\n",
    "times = tod.local_times()\n",
    "ind = slice(0, 600)\n",
    "for det in tod.local_dets:\n",
    "    simulated = tod.local_signal(det, \"sss\")\n",
    "    plt.plot(times[ind], simulated[ind], \".\", label=det)\n",
    "ax = plt.gca()\n",
    "ax.set_xlabel(\"Unix time [s]\")\n",
    "ax.set_ylabel(\"Atmosphere [K]\")\n",
    "ax.set_title(\"Simulated ground signal\")\n",
    "plt.legend(loc=\"best\")\n",
    "\n",
    "# The ground map is simulated on-the-fly and discarded afterwards.  By default, each observation gets\n",
    "# an entirely independent ground map.  Here is an example:\n",
    "\n",
    "weather = obs[\"weather\"]\n",
    "weather.set(0, 0, 0)\n",
    "key1, key2, counter1, counter2 = sim_sss._get_rng_keys(obs)\n",
    "ground_map = sim_sss._simulate_sss(key1, key2, counter1, counter2, weather, mpiworld)\n",
    "\n",
    "healpy.mollview(ground_map, cmap=\"coolwarm\", title=\"Simulated ground map + hits\")\n",
    "for det in tod.local_dets:\n",
    "    quat_azel = tod.read_pntg(det, azel=True)\n",
    "    theta, phi = toast.qarray.to_position(quat_azel)\n",
    "    healpy.projplot(theta, phi, '.')\n",
    "\n",
    "healpy.gnomview(ground_map, cmap=\"coolwarm\", title=\"Simulated ground map + hits\", rot=[127, 43], reso=3)\n",
    "for det in tod.local_dets:\n",
    "    quat_azel = tod.read_pntg(det, azel=True)\n",
    "    theta, phi = toast.qarray.to_position(quat_azel)\n",
    "    healpy.projplot(theta, phi, '.')\n"
   ]
  },
  {
   "cell_type": "code",
   "execution_count": null,
   "metadata": {},
   "outputs": [],
   "source": [
    "90-np.degrees(theta),np.degrees(phi)"
   ]
  },
  {
   "cell_type": "markdown",
   "metadata": {},
   "source": [
    "## Running in Parallel\n",
    "\n",
    "The NERSC login nodes do not support MPI, so all of the previous examples are running serially.  To run in parallel, we can submit a batch job version of the above examples:"
   ]
  },
  {
   "cell_type": "code",
   "execution_count": null,
   "metadata": {},
   "outputs": [],
   "source": [
    "%%writefile siminst.py\n",
    "\n",
    "import toast\n",
    "from toast.mpi import MPI\n"
   ]
  },
  {
   "cell_type": "code",
   "execution_count": null,
   "metadata": {},
   "outputs": [],
   "source": [
    "if nersc_host is not None:\n",
    "    %srun -N 1 -C knl -n 32 -c 2 --cpu_bind=cores -t 00:03:00 python siminst.py"
   ]
  }
 ],
 "metadata": {
  "kernelspec": {
   "display_name": "CMB 20191008",
   "language": "python",
   "name": "cmbenv-20191008"
  },
  "language_info": {
   "codemirror_mode": {
    "name": "ipython",
    "version": 3
   },
   "file_extension": ".py",
   "mimetype": "text/x-python",
   "name": "python",
   "nbconvert_exporter": "python",
   "pygments_lexer": "ipython3",
   "version": "3.7.4"
  }
 },
 "nbformat": 4,
 "nbformat_minor": 4
}
