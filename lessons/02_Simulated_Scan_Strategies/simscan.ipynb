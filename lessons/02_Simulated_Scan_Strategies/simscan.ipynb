{
 "cells": [
  {
   "cell_type": "markdown",
   "metadata": {},
   "source": [
    "# Simulated Scan Strategies\n",
    "\n",
    "In this lesson we learn how to simulate satellite and ground observing schedules"
   ]
  },
  {
   "cell_type": "code",
   "execution_count": null,
   "metadata": {},
   "outputs": [],
   "source": [
    "# Are you using a special reservation for a workshop?\n",
    "# If so, set it here:\n",
    "nersc_reservation = None\n",
    "\n",
    "# Load common tools for all lessons\n",
    "import sys\n",
    "sys.path.insert(0, \"..\")\n",
    "from lesson_tools import (\n",
    "    check_nersc,\n",
    "    fake_focalplane\n",
    ")\n",
    "nersc_host, nersc_repo = check_nersc(reservation=nersc_reservation)\n",
    "if nersc_host is not None:\n",
    "    %reload_ext slurm_magic"
   ]
  },
  {
   "cell_type": "markdown",
   "metadata": {},
   "source": [
    "## Running in Parallel\n",
    "\n",
    "The NERSC login nodes do not support MPI, so all of the previous examples are running serially.  To run in parallel, we can submit a batch job version of the above examples:"
   ]
  },
  {
   "cell_type": "code",
   "execution_count": null,
   "metadata": {},
   "outputs": [],
   "source": [
    "%%writefile simscan.py\n",
    "\n",
    "import toast\n",
    "from toast.mpi import MPI\n"
   ]
  },
  {
   "cell_type": "code",
   "execution_count": null,
   "metadata": {},
   "outputs": [],
   "source": [
    "if nersc_host is not None:\n",
    "    %srun -N 1 -C knl -n 32 -c 2 --cpu_bind=cores -t 00:03:00 python simscan.py"
   ]
  },
  {
   "cell_type": "markdown",
   "metadata": {},
   "source": [
    "## Ground observing schedules"
   ]
  },
  {
   "cell_type": "markdown",
   "metadata": {},
   "source": [
    "TOAST `pipelines` include a tool called `toast_ground_schedule.py`, also known as the *opportunistic scheduler*. It can be used to create site-specific observing schedules subject to a number of constraints. At minimum, the tool needs the location of the observatory, observing time and at least one target. Here is a minimal example:"
   ]
  },
  {
   "cell_type": "code",
   "execution_count": null,
   "metadata": {},
   "outputs": [],
   "source": [
    "! toast_ground_schedule.py \\\n",
    "    --site-lat \"-22.958064\" \\\n",
    "    --site-lon \"-67.786222\" \\\n",
    "    --site-alt 5200 \\\n",
    "    --site-name Atacama \\\n",
    "    --telescope LAT \\\n",
    "    --start \"2020-01-01 00:00:00\" \\\n",
    "    --stop \"2020-01-01 12:00:00\" \\\n",
    "    --patch-coord C \\\n",
    "    --patch small_patch,1,40,-40,44,-44 \\\n",
    "    --out schedule.txt\n",
    "\n",
    "! cat schedule.txt"
   ]
  },
  {
   "cell_type": "markdown",
   "metadata": {},
   "source": [
    "The rectangular patch definition takes the form `--patch <name>,<priority>,<RA left>,<DEC top>,<RA right>,<DEC bottom>`. No spaces are allowed in the definition.  Other patch definition formats will be discussed below.\n",
    "\n",
    "The resulting schedule is a plain ASCII file. The header defines the telescope and each line after that defines a constant elevation scan (CES) with a fixed azimuth range. When a full pass of the target takes longer than allowed observation time, `--ces-max-time`, the CES is broken up into sub passes that use the same observing elevation but adjust the azimuth range.  The above schedule includes 10 passes of the target \"small_patch\" that fit in the allowed 12-hour observing time. Some passes are split into as many as 4 sub passes, each no longer than 20 minutes (default).\n",
    "\n",
    "Let's add another patch using the circular patch definition format, set the observing elevation limits and enable Sun avoidance. We'll also increase `ces-max-time` So we get fewer entries in the schedule."
   ]
  },
  {
   "cell_type": "code",
   "execution_count": null,
   "metadata": {},
   "outputs": [],
   "source": [
    "! toast_ground_schedule.py \\\n",
    "    --site-lat \"-22.958064\" \\\n",
    "    --site-lon \"-67.786222\" \\\n",
    "    --site-alt 5200 \\\n",
    "    --site-name Atacama \\\n",
    "    --telescope LAT \\\n",
    "    --start \"2020-01-01 00:00:00\" \\\n",
    "    --stop \"2020-01-01 12:00:00\" \\\n",
    "    --patch-coord C \\\n",
    "    --patch small_patch,1,40,-40,44,-44 \\\n",
    "    --patch large_patch,1,20.,-42.,10. \\\n",
    "    --el-min 40 \\\n",
    "    --el-max 60 \\\n",
    "    --ces-max-time 86400 \\\n",
    "    --sun-avoidance-angle 20 \\\n",
    "    --out schedule.txt\n",
    "\n",
    "! cat schedule.txt"
   ]
  },
  {
   "cell_type": "code",
   "execution_count": null,
   "metadata": {},
   "outputs": [],
   "source": [
    "! python3 -c \"from toast.mpi import MPI; print(MPI)\""
   ]
  },
  {
   "cell_type": "code",
   "execution_count": null,
   "metadata": {},
   "outputs": [],
   "source": []
  }
 ],
 "metadata": {
  "kernelspec": {
   "display_name": "CMB 20191008",
   "language": "python",
   "name": "cmbenv-20191008"
  },
  "language_info": {
   "codemirror_mode": {
    "name": "ipython",
    "version": 3
   },
   "file_extension": ".py",
   "mimetype": "text/x-python",
   "name": "python",
   "nbconvert_exporter": "python",
   "pygments_lexer": "ipython3",
   "version": "3.6.9"
  }
 },
 "nbformat": 4,
 "nbformat_minor": 4
}
