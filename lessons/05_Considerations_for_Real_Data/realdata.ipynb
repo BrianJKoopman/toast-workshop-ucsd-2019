{
 "cells": [
  {
   "cell_type": "markdown",
   "metadata": {},
   "source": [
    "# Considerations for Real Data\n",
    "\n",
    "This lesson is about..."
   ]
  },
  {
   "cell_type": "code",
   "execution_count": null,
   "metadata": {},
   "outputs": [],
   "source": [
    "# Are you using a special reservation for a workshop?\n",
    "# If so, set it here:\n",
    "nersc_reservation = \"toast3\"\n",
    "\n",
    "# Load common tools for all lessons\n",
    "import sys\n",
    "sys.path.insert(0, \"..\")\n",
    "from lesson_tools import (\n",
    "    check_nersc,\n",
    "    fake_focalplane\n",
    ")\n",
    "nersc_host, nersc_repo, nersc_resv = check_nersc(reservation=nersc_reservation)\n",
    "\n",
    "# Capture C++ output in the jupyter cells\n",
    "%reload_ext wurlitzer\n"
   ]
  },
  {
   "cell_type": "markdown",
   "metadata": {},
   "source": [
    "## Running in Parallel\n",
    "\n",
    "The NERSC login nodes do not support MPI, so all of the previous examples are running serially.  To run in parallel, we can submit a batch job version of the above examples:"
   ]
  },
  {
   "cell_type": "code",
   "execution_count": null,
   "metadata": {},
   "outputs": [],
   "source": [
    "%%writefile realdata.py\n",
    "\n",
    "import toast\n",
    "from toast.mpi import MPI\n"
   ]
  },
  {
   "cell_type": "code",
   "execution_count": null,
   "metadata": {},
   "outputs": [],
   "source": [
    "import subprocess as sp\n",
    "\n",
    "command = \"python realdata.py\"\n",
    "runstr = None\n",
    "\n",
    "if nersc_host is not None:\n",
    "    runstr = \"srun -N 1 -C haswell -n 32 -c 2 --cpu_bind=cores -t 00:03:00\"\n",
    "    if nersc_resv is not None:\n",
    "        runstr = \"{} --reservation {}\".format(runstr, nersc_resv)\n",
    "else:\n",
    "    # Just use mpirun\n",
    "    runstr = \"mpirun -np 4\"\n",
    "\n",
    "runcom = \"{} {}\".format(runstr, command)\n",
    "print(runcom, flush=True)\n",
    "sp.check_call(runcom, stderr=sp.STDOUT, shell=True)\n"
   ]
  }
 ],
 "metadata": {
  "kernelspec": {
   "display_name": "CMB 20191012",
   "language": "python",
   "name": "cmbenv-20191012"
  },
  "language_info": {
   "codemirror_mode": {
    "name": "ipython",
    "version": 3
   },
   "file_extension": ".py",
   "mimetype": "text/x-python",
   "name": "python",
   "nbconvert_exporter": "python",
   "pygments_lexer": "ipython3",
   "version": "3.6.9"
  }
 },
 "nbformat": 4,
 "nbformat_minor": 4
}
